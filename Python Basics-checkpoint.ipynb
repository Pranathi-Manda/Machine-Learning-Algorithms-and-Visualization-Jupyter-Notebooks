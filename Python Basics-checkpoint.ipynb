{
 "cells": [
  {
   "cell_type": "code",
   "execution_count": 1,
   "id": "74078111",
   "metadata": {},
   "outputs": [
    {
     "name": "stdout",
     "output_type": "stream",
     "text": [
      "Hello World\n"
     ]
    }
   ],
   "source": [
    "print('Hello World')"
   ]
  },
  {
   "cell_type": "code",
   "execution_count": 3,
   "id": "d9def2b6",
   "metadata": {},
   "outputs": [
    {
     "name": "stdout",
     "output_type": "stream",
     "text": [
      "Indra Prakash\n"
     ]
    }
   ],
   "source": [
    "print(\"Indra Prakash\")"
   ]
  },
  {
   "cell_type": "markdown",
   "id": "dfd87110",
   "metadata": {},
   "source": [
    "# Heading"
   ]
  },
  {
   "cell_type": "markdown",
   "id": "e447ca64",
   "metadata": {},
   "source": [
    "## Heading"
   ]
  },
  {
   "cell_type": "markdown",
   "id": "e7c41b30",
   "metadata": {},
   "source": [
    "### Heading"
   ]
  },
  {
   "cell_type": "markdown",
   "id": "85bf9ef4",
   "metadata": {},
   "source": [
    "#### Heading"
   ]
  },
  {
   "cell_type": "markdown",
   "id": "9df75c7e",
   "metadata": {},
   "source": [
    "##### Heading\n"
   ]
  },
  {
   "cell_type": "raw",
   "id": "5c1ec668",
   "metadata": {},
   "source": [
    "This was for practice and Understand Python"
   ]
  },
  {
   "cell_type": "code",
   "execution_count": 1,
   "id": "45b443b3",
   "metadata": {},
   "outputs": [
    {
     "name": "stdout",
     "output_type": "stream",
     "text": [
      "5\n"
     ]
    }
   ],
   "source": [
    "print(5)"
   ]
  },
  {
   "cell_type": "code",
   "execution_count": 2,
   "id": "128c0e19",
   "metadata": {},
   "outputs": [
    {
     "name": "stdout",
     "output_type": "stream",
     "text": [
      "2.5\n"
     ]
    }
   ],
   "source": [
    "print(2.5)"
   ]
  },
  {
   "cell_type": "raw",
   "id": "3836da90",
   "metadata": {},
   "source": [
    "Data types\n",
    "1. int- Integer values eg-7,12,4,5 etc\n",
    "2. Float-decimal values eg: 1.5,2.5,6.5 etc\n",
    "3. boolean- True or False\n",
    "4. string"
   ]
  },
  {
   "cell_type": "code",
   "execution_count": 3,
   "id": "4ab4d292",
   "metadata": {},
   "outputs": [
    {
     "name": "stdout",
     "output_type": "stream",
     "text": [
      "India America Russia Srilanka\n"
     ]
    }
   ],
   "source": [
    "print('India','America','Russia','Srilanka')"
   ]
  },
  {
   "cell_type": "code",
   "execution_count": 4,
   "id": "ddb74fd6",
   "metadata": {},
   "outputs": [
    {
     "name": "stdout",
     "output_type": "stream",
     "text": [
      "India/America/Russia/Srilanka\n"
     ]
    }
   ],
   "source": [
    "print('India','America','Russia','Srilanka', sep='/')"
   ]
  },
  {
   "cell_type": "code",
   "execution_count": 5,
   "id": "ac1b9d45",
   "metadata": {},
   "outputs": [
    {
     "name": "stdout",
     "output_type": "stream",
     "text": [
      "India-America-Russia-Srilanka\n"
     ]
    }
   ],
   "source": [
    "print('India','America','Russia','Srilanka', sep='-')"
   ]
  },
  {
   "cell_type": "code",
   "execution_count": 6,
   "id": "fa9eae42",
   "metadata": {},
   "outputs": [
    {
     "name": "stdout",
     "output_type": "stream",
     "text": [
      "India*America*Russia*Srilanka\n"
     ]
    }
   ],
   "source": [
    "print('India','America','Russia','Srilanka', sep='*')"
   ]
  },
  {
   "cell_type": "code",
   "execution_count": 7,
   "id": "14f9a0af",
   "metadata": {},
   "outputs": [
    {
     "name": "stdout",
     "output_type": "stream",
     "text": [
      "50\n"
     ]
    }
   ],
   "source": [
    "x=50\n",
    "print(x)"
   ]
  },
  {
   "cell_type": "code",
   "execution_count": 8,
   "id": "9564c990",
   "metadata": {},
   "outputs": [
    {
     "name": "stdout",
     "output_type": "stream",
     "text": [
      "20\n"
     ]
    }
   ],
   "source": [
    "# Adding value with Variable\n",
    "y=10\n",
    "y=y+10\n",
    "print(y)"
   ]
  },
  {
   "cell_type": "code",
   "execution_count": 9,
   "id": "3ae13eed",
   "metadata": {},
   "outputs": [
    {
     "name": "stdout",
     "output_type": "stream",
     "text": [
      "15\n"
     ]
    }
   ],
   "source": [
    "# subtraction with variable\n",
    "y=y-5\n",
    "print(y)"
   ]
  },
  {
   "cell_type": "code",
   "execution_count": 10,
   "id": "b775365c",
   "metadata": {},
   "outputs": [
    {
     "name": "stdout",
     "output_type": "stream",
     "text": [
      "100\n"
     ]
    }
   ],
   "source": [
    "x=10\n",
    "x=x*10\n",
    "print(x)"
   ]
  },
  {
   "cell_type": "code",
   "execution_count": 11,
   "id": "22544dd7",
   "metadata": {},
   "outputs": [
    {
     "name": "stdout",
     "output_type": "stream",
     "text": [
      "150\n"
     ]
    }
   ],
   "source": [
    "#multiple variable\n",
    "a=100\n",
    "b=50\n",
    "print(a+b) # Addition"
   ]
  },
  {
   "cell_type": "code",
   "execution_count": 12,
   "id": "2e487a20",
   "metadata": {},
   "outputs": [
    {
     "data": {
      "text/plain": [
       "50"
      ]
     },
     "execution_count": 12,
     "metadata": {},
     "output_type": "execute_result"
    }
   ],
   "source": [
    "a-b"
   ]
  },
  {
   "cell_type": "code",
   "execution_count": 13,
   "id": "b8d17b7c",
   "metadata": {},
   "outputs": [
    {
     "data": {
      "text/plain": [
       "5000"
      ]
     },
     "execution_count": 13,
     "metadata": {},
     "output_type": "execute_result"
    }
   ],
   "source": [
    "a*b"
   ]
  },
  {
   "cell_type": "code",
   "execution_count": 14,
   "id": "d78acc3d",
   "metadata": {},
   "outputs": [
    {
     "name": "stdout",
     "output_type": "stream",
     "text": [
      "10\n",
      "20\n",
      "30\n"
     ]
    }
   ],
   "source": [
    "a,b,c=10,20,30\n",
    "print(a)\n",
    "print(b)\n",
    "print(c)"
   ]
  },
  {
   "cell_type": "code",
   "execution_count": 15,
   "id": "a69ea734",
   "metadata": {},
   "outputs": [
    {
     "name": "stdout",
     "output_type": "stream",
     "text": [
      "100\n",
      "<class 'int'>\n"
     ]
    }
   ],
   "source": [
    "a=100\n",
    "print(a)\n",
    "print(type(a))"
   ]
  },
  {
   "cell_type": "code",
   "execution_count": 16,
   "id": "ae226a4f",
   "metadata": {},
   "outputs": [
    {
     "name": "stdout",
     "output_type": "stream",
     "text": [
      "10.5\n",
      "<class 'float'>\n"
     ]
    }
   ],
   "source": [
    "b=10.5\n",
    "print(b)\n",
    "print(type(b))"
   ]
  },
  {
   "cell_type": "code",
   "execution_count": 17,
   "id": "4a40b299",
   "metadata": {},
   "outputs": [
    {
     "name": "stdout",
     "output_type": "stream",
     "text": [
      "Enter a number: 10\n",
      "10\n"
     ]
    }
   ],
   "source": [
    "x=int(input('Enter a number: '))\n",
    "print(x)"
   ]
  },
  {
   "cell_type": "code",
   "execution_count": 20,
   "id": "a39f8431",
   "metadata": {},
   "outputs": [
    {
     "name": "stdout",
     "output_type": "stream",
     "text": [
      "Enter a name: Indra\n",
      "Indra\n"
     ]
    }
   ],
   "source": [
    "y=str(input('Enter a name: '))\n",
    "print(y)"
   ]
  },
  {
   "cell_type": "code",
   "execution_count": 21,
   "id": "6d017247",
   "metadata": {},
   "outputs": [
    {
     "name": "stdout",
     "output_type": "stream",
     "text": [
      "<class 'str'>\n"
     ]
    }
   ],
   "source": [
    "print(type(y))"
   ]
  },
  {
   "cell_type": "markdown",
   "id": "42ccac43",
   "metadata": {},
   "source": [
    "## Operators"
   ]
  },
  {
   "cell_type": "code",
   "execution_count": 22,
   "id": "11fb7fa3",
   "metadata": {},
   "outputs": [
    {
     "name": "stdout",
     "output_type": "stream",
     "text": [
      "13\n",
      "7\n",
      "30\n",
      "1\n",
      "3\n",
      "1000\n"
     ]
    }
   ],
   "source": [
    "a=10\n",
    "b=3\n",
    "print(a+b)\n",
    "print(a-b)\n",
    "print(a*b)\n",
    "print(a%b)\n",
    "print(a//b)\n",
    "print(a**b)"
   ]
  },
  {
   "cell_type": "code",
   "execution_count": 23,
   "id": "cefbd5c5",
   "metadata": {},
   "outputs": [
    {
     "name": "stdout",
     "output_type": "stream",
     "text": [
      "5.0\n"
     ]
    }
   ],
   "source": [
    "a=25\n",
    "print(a**(1/2))"
   ]
  },
  {
   "cell_type": "code",
   "execution_count": 24,
   "id": "be167cb6",
   "metadata": {},
   "outputs": [
    {
     "name": "stdout",
     "output_type": "stream",
     "text": [
      "5.0\n"
     ]
    }
   ],
   "source": [
    "a=125\n",
    "print(a**(1/3))"
   ]
  },
  {
   "cell_type": "markdown",
   "id": "1a9d0110",
   "metadata": {},
   "source": [
    "# Relational Operators"
   ]
  },
  {
   "cell_type": "code",
   "execution_count": 25,
   "id": "e4639f78",
   "metadata": {},
   "outputs": [
    {
     "name": "stdout",
     "output_type": "stream",
     "text": [
      "False\n",
      "True\n",
      "True\n",
      "False\n"
     ]
    }
   ],
   "source": [
    "a=100\n",
    "b=50\n",
    "print(a<b)\n",
    "print(a>b)\n",
    "print(a>=b)\n",
    "print(a<=b)"
   ]
  },
  {
   "cell_type": "markdown",
   "id": "c6cf5f5e",
   "metadata": {},
   "source": [
    "## Membership Operators"
   ]
  },
  {
   "cell_type": "code",
   "execution_count": 26,
   "id": "66ba6798",
   "metadata": {},
   "outputs": [
    {
     "name": "stdout",
     "output_type": "stream",
     "text": [
      "True\n",
      "True\n",
      "False\n"
     ]
    }
   ],
   "source": [
    "s='Python'\n",
    "print('y' in s)\n",
    "print('h' in s)\n",
    "print('z' in s)"
   ]
  },
  {
   "cell_type": "markdown",
   "id": "c55b071f",
   "metadata": {},
   "source": [
    "# List"
   ]
  },
  {
   "cell_type": "code",
   "execution_count": 27,
   "id": "e24e4de5",
   "metadata": {},
   "outputs": [
    {
     "name": "stdout",
     "output_type": "stream",
     "text": [
      "['Indra', 25, 2.5, 'Delhi']\n"
     ]
    }
   ],
   "source": [
    "list=['Indra',25,2.5,'Delhi']\n",
    "print(list)"
   ]
  },
  {
   "cell_type": "code",
   "execution_count": 28,
   "id": "2db80a5c",
   "metadata": {},
   "outputs": [
    {
     "name": "stdout",
     "output_type": "stream",
     "text": [
      "4\n"
     ]
    }
   ],
   "source": [
    "#length of the List\n",
    "print(len(list))"
   ]
  },
  {
   "cell_type": "code",
   "execution_count": 29,
   "id": "52a5cd5d",
   "metadata": {},
   "outputs": [
    {
     "data": {
      "text/plain": [
       "25"
      ]
     },
     "execution_count": 29,
     "metadata": {},
     "output_type": "execute_result"
    }
   ],
   "source": [
    "list[1]"
   ]
  },
  {
   "cell_type": "code",
   "execution_count": 30,
   "id": "c4bafc54",
   "metadata": {},
   "outputs": [
    {
     "data": {
      "text/plain": [
       "'Indra'"
      ]
     },
     "execution_count": 30,
     "metadata": {},
     "output_type": "execute_result"
    }
   ],
   "source": [
    "list[0]"
   ]
  },
  {
   "cell_type": "code",
   "execution_count": 31,
   "id": "19d82b12",
   "metadata": {},
   "outputs": [
    {
     "data": {
      "text/plain": [
       "2.5"
      ]
     },
     "execution_count": 31,
     "metadata": {},
     "output_type": "execute_result"
    }
   ],
   "source": [
    "list[2]"
   ]
  },
  {
   "cell_type": "code",
   "execution_count": 32,
   "id": "0ae0606c",
   "metadata": {},
   "outputs": [
    {
     "data": {
      "text/plain": [
       "'Delhi'"
      ]
     },
     "execution_count": 32,
     "metadata": {},
     "output_type": "execute_result"
    }
   ],
   "source": [
    "list[3]"
   ]
  },
  {
   "cell_type": "code",
   "execution_count": 33,
   "id": "d97f586c",
   "metadata": {},
   "outputs": [
    {
     "data": {
      "text/plain": [
       "'Delhi'"
      ]
     },
     "execution_count": 33,
     "metadata": {},
     "output_type": "execute_result"
    }
   ],
   "source": [
    "list[-1]"
   ]
  },
  {
   "cell_type": "code",
   "execution_count": 34,
   "id": "74279ea4",
   "metadata": {},
   "outputs": [
    {
     "name": "stdout",
     "output_type": "stream",
     "text": [
      "[50, 25, 2.5, 'Delhi']\n"
     ]
    }
   ],
   "source": [
    "list[0]=50\n",
    "print(list)"
   ]
  },
  {
   "cell_type": "code",
   "execution_count": 35,
   "id": "8f78367e",
   "metadata": {},
   "outputs": [
    {
     "name": "stdout",
     "output_type": "stream",
     "text": [
      "[25, 2.5]\n"
     ]
    }
   ],
   "source": [
    "# slicing: Accessing the range of values from the list    #list[start:End]\n",
    "print(list[1:3])"
   ]
  },
  {
   "cell_type": "code",
   "execution_count": 36,
   "id": "c0c94024",
   "metadata": {},
   "outputs": [
    {
     "name": "stdout",
     "output_type": "stream",
     "text": [
      "[50, 25]\n"
     ]
    }
   ],
   "source": [
    "print(list[0:2])"
   ]
  },
  {
   "cell_type": "code",
   "execution_count": 37,
   "id": "dc0076b7",
   "metadata": {},
   "outputs": [
    {
     "name": "stdout",
     "output_type": "stream",
     "text": [
      "['Delhi', 2.5, 25, 50]\n"
     ]
    }
   ],
   "source": [
    "# Reversing the List\n",
    "print(list[::-1])"
   ]
  },
  {
   "cell_type": "markdown",
   "id": "12e24942",
   "metadata": {},
   "source": [
    "# Tuples"
   ]
  },
  {
   "cell_type": "code",
   "execution_count": 38,
   "id": "519594f6",
   "metadata": {},
   "outputs": [],
   "source": [
    "tup=('street','sagar',254)"
   ]
  },
  {
   "cell_type": "code",
   "execution_count": 39,
   "id": "7ab8e0b8",
   "metadata": {},
   "outputs": [
    {
     "name": "stdout",
     "output_type": "stream",
     "text": [
      "('street', 'sagar', 254)\n"
     ]
    }
   ],
   "source": [
    "print(tup)"
   ]
  },
  {
   "cell_type": "code",
   "execution_count": 40,
   "id": "a938f445",
   "metadata": {},
   "outputs": [
    {
     "data": {
      "text/plain": [
       "'street'"
      ]
     },
     "execution_count": 40,
     "metadata": {},
     "output_type": "execute_result"
    }
   ],
   "source": [
    "tup[0]"
   ]
  },
  {
   "cell_type": "code",
   "execution_count": 41,
   "id": "8c04a850",
   "metadata": {},
   "outputs": [
    {
     "name": "stdout",
     "output_type": "stream",
     "text": [
      "('sagar', 254)\n"
     ]
    }
   ],
   "source": [
    "#slicing in tuples\n",
    "print(tup[1:])"
   ]
  },
  {
   "cell_type": "code",
   "execution_count": 42,
   "id": "e2851279",
   "metadata": {},
   "outputs": [
    {
     "data": {
      "text/plain": [
       "('street', 'sagar')"
      ]
     },
     "execution_count": 42,
     "metadata": {},
     "output_type": "execute_result"
    }
   ],
   "source": [
    "tup[:2]"
   ]
  },
  {
   "cell_type": "code",
   "execution_count": 43,
   "id": "54f1ffad",
   "metadata": {},
   "outputs": [],
   "source": [
    "#deleting tuple\n",
    "del(tup)"
   ]
  },
  {
   "cell_type": "code",
   "execution_count": 44,
   "id": "2ecc13c7",
   "metadata": {},
   "outputs": [
    {
     "ename": "NameError",
     "evalue": "name 'tup' is not defined",
     "output_type": "error",
     "traceback": [
      "\u001b[1;31m---------------------------------------------------------------------------\u001b[0m",
      "\u001b[1;31mNameError\u001b[0m                                 Traceback (most recent call last)",
      "\u001b[1;32m~\\AppData\\Local\\Temp\\ipykernel_22060\\2928678360.py\u001b[0m in \u001b[0;36m<module>\u001b[1;34m\u001b[0m\n\u001b[1;32m----> 1\u001b[1;33m \u001b[0mprint\u001b[0m\u001b[1;33m(\u001b[0m\u001b[0mtup\u001b[0m\u001b[1;33m)\u001b[0m\u001b[1;33m\u001b[0m\u001b[1;33m\u001b[0m\u001b[0m\n\u001b[0m",
      "\u001b[1;31mNameError\u001b[0m: name 'tup' is not defined"
     ]
    }
   ],
   "source": [
    "print(tup)"
   ]
  },
  {
   "cell_type": "markdown",
   "id": "36054df2",
   "metadata": {},
   "source": [
    "## Set"
   ]
  },
  {
   "cell_type": "code",
   "execution_count": 45,
   "id": "583356cf",
   "metadata": {},
   "outputs": [
    {
     "name": "stdout",
     "output_type": "stream",
     "text": [
      "{1, 2, 3, 4}\n"
     ]
    }
   ],
   "source": [
    "a={4,3,2,1}\n",
    "print(a)"
   ]
  },
  {
   "cell_type": "code",
   "execution_count": 46,
   "id": "69d02603",
   "metadata": {},
   "outputs": [
    {
     "name": "stdout",
     "output_type": "stream",
     "text": [
      "{1, 2, 3, 4, 50}\n"
     ]
    }
   ],
   "source": [
    "a.add(50)\n",
    "print(a)"
   ]
  },
  {
   "cell_type": "markdown",
   "id": "4b7fa1a2",
   "metadata": {},
   "source": [
    "# Dictionary"
   ]
  },
  {
   "cell_type": "code",
   "execution_count": 47,
   "id": "de2bdf1f",
   "metadata": {},
   "outputs": [
    {
     "data": {
      "text/plain": [
       "{'name': 'Suraj', 'age': 30}"
      ]
     },
     "execution_count": 47,
     "metadata": {},
     "output_type": "execute_result"
    }
   ],
   "source": [
    "# dictionary should be in Key value pairs\n",
    "d={'name':'Suraj','age':30}\n",
    "d"
   ]
  },
  {
   "cell_type": "code",
   "execution_count": 48,
   "id": "de606b7f",
   "metadata": {},
   "outputs": [
    {
     "name": "stdout",
     "output_type": "stream",
     "text": [
      "Suraj\n"
     ]
    }
   ],
   "source": [
    "print(d['name'])"
   ]
  },
  {
   "cell_type": "code",
   "execution_count": 49,
   "id": "07c5bd68",
   "metadata": {},
   "outputs": [
    {
     "name": "stdout",
     "output_type": "stream",
     "text": [
      "30\n"
     ]
    }
   ],
   "source": [
    "print(d['age'])"
   ]
  },
  {
   "cell_type": "code",
   "execution_count": 50,
   "id": "88f7f9eb",
   "metadata": {},
   "outputs": [
    {
     "data": {
      "text/plain": [
       "{'name': 'Suraj', 'age': 40}"
      ]
     },
     "execution_count": 50,
     "metadata": {},
     "output_type": "execute_result"
    }
   ],
   "source": [
    "#Update the Dictionary\n",
    "d['age']=40\n",
    "d"
   ]
  },
  {
   "cell_type": "code",
   "execution_count": 51,
   "id": "94b2b7bb",
   "metadata": {},
   "outputs": [
    {
     "data": {
      "text/plain": [
       "dict_items([('name', 'Suraj'), ('age', 40)])"
      ]
     },
     "execution_count": 51,
     "metadata": {},
     "output_type": "execute_result"
    }
   ],
   "source": [
    "d.items()"
   ]
  },
  {
   "cell_type": "code",
   "execution_count": 52,
   "id": "0893169c",
   "metadata": {},
   "outputs": [
    {
     "data": {
      "text/plain": [
       "dict_keys(['name', 'age'])"
      ]
     },
     "execution_count": 52,
     "metadata": {},
     "output_type": "execute_result"
    }
   ],
   "source": [
    "d.keys()"
   ]
  },
  {
   "cell_type": "code",
   "execution_count": 53,
   "id": "aad7ffe1",
   "metadata": {},
   "outputs": [
    {
     "data": {
      "text/plain": [
       "dict_values(['Suraj', 40])"
      ]
     },
     "execution_count": 53,
     "metadata": {},
     "output_type": "execute_result"
    }
   ],
   "source": [
    "d.values()"
   ]
  },
  {
   "cell_type": "markdown",
   "id": "24d5fb58",
   "metadata": {},
   "source": [
    "# Statements"
   ]
  },
  {
   "cell_type": "code",
   "execution_count": 54,
   "id": "d38d2e65",
   "metadata": {},
   "outputs": [],
   "source": [
    "#if\n",
    "#if else\n",
    "#elif"
   ]
  },
  {
   "cell_type": "code",
   "execution_count": 55,
   "id": "fd7af588",
   "metadata": {},
   "outputs": [
    {
     "name": "stdout",
     "output_type": "stream",
     "text": [
      "Enater a Number: 50\n"
     ]
    }
   ],
   "source": [
    "#if\n",
    "x=int(input('Enter a Number: '))\n",
    "\n",
    "if x==100:\n",
    "    print(\"You Entered my favourite number\")"
   ]
  },
  {
   "cell_type": "code",
   "execution_count": 57,
   "id": "9d3d3c19",
   "metadata": {},
   "outputs": [
    {
     "name": "stdout",
     "output_type": "stream",
     "text": [
      "Enter a Number: 100\n",
      "You Entered my favourite number\n"
     ]
    }
   ],
   "source": [
    "#if else\n",
    "x=int(input('Enter a Number: '))\n",
    "\n",
    "if x==100:\n",
    "    print(\"You Entered my favourite number\")\n",
    "else:\n",
    "    print('This is not my favorite number')"
   ]
  },
  {
   "cell_type": "code",
   "execution_count": 60,
   "id": "b17cd75e",
   "metadata": {},
   "outputs": [
    {
     "name": "stdout",
     "output_type": "stream",
     "text": [
      "Enter teh value of a: 100\n",
      "Enter teh value of b: 100\n",
      "a is equal to b\n"
     ]
    }
   ],
   "source": [
    "#elif Statement\n",
    "a=int(input('Enter teh value of a: '))\n",
    "b=int(input('Enter teh value of b: '))\n",
    "\n",
    "if a<b:\n",
    "    print('b is Greater')\n",
    "elif a==b:\n",
    "    print('a is equal to b')\n",
    "else:\n",
    "    print('a is greater')\n"
   ]
  },
  {
   "cell_type": "markdown",
   "id": "84dc392a",
   "metadata": {},
   "source": [
    "# For Loop"
   ]
  },
  {
   "cell_type": "code",
   "execution_count": 62,
   "id": "8444072e",
   "metadata": {},
   "outputs": [],
   "source": [
    "list=['Indra','raju','Sai',\"john\"]"
   ]
  },
  {
   "cell_type": "code",
   "execution_count": 64,
   "id": "fea6d3cb",
   "metadata": {},
   "outputs": [
    {
     "name": "stdout",
     "output_type": "stream",
     "text": [
      "Indra\n",
      "raju\n",
      "Sai\n",
      "john\n"
     ]
    }
   ],
   "source": [
    "for i in list:\n",
    "    print(i)"
   ]
  },
  {
   "cell_type": "code",
   "execution_count": 67,
   "id": "14e176fa",
   "metadata": {},
   "outputs": [
    {
     "name": "stdout",
     "output_type": "stream",
     "text": [
      "BMW\n",
      "Audi\n",
      "Mercez\n",
      "Volvo\n"
     ]
    }
   ],
   "source": [
    "cars=['BMW','Audi','Mercez','Volvo']\n",
    "for i in cars:\n",
    "    print(i)"
   ]
  },
  {
   "cell_type": "code",
   "execution_count": 68,
   "id": "45cc77cd",
   "metadata": {},
   "outputs": [
    {
     "name": "stdout",
     "output_type": "stream",
     "text": [
      "0\n",
      "1\n",
      "2\n",
      "3\n",
      "4\n",
      "5\n",
      "6\n",
      "7\n",
      "8\n",
      "9\n"
     ]
    }
   ],
   "source": [
    "for i in range(10):\n",
    "    print(i)"
   ]
  },
  {
   "cell_type": "code",
   "execution_count": 70,
   "id": "2d164796",
   "metadata": {},
   "outputs": [
    {
     "name": "stdout",
     "output_type": "stream",
     "text": [
      "0\n",
      "1\n",
      "2\n",
      "3\n",
      "4\n",
      "5\n",
      "6\n",
      "7\n",
      "8\n",
      "9\n",
      "10\n",
      "11\n",
      "12\n",
      "13\n",
      "14\n",
      "15\n",
      "16\n",
      "17\n",
      "18\n",
      "19\n",
      "20\n",
      "21\n",
      "22\n",
      "23\n",
      "24\n"
     ]
    }
   ],
   "source": [
    "for i in range(25):\n",
    "    print(i)"
   ]
  },
  {
   "cell_type": "markdown",
   "id": "e9147fbe",
   "metadata": {},
   "source": [
    "# While Loops"
   ]
  },
  {
   "cell_type": "code",
   "execution_count": 1,
   "id": "247074f7",
   "metadata": {},
   "outputs": [
    {
     "name": "stdout",
     "output_type": "stream",
     "text": [
      "0\n",
      "1\n",
      "2\n",
      "3\n",
      "4\n",
      "5\n"
     ]
    }
   ],
   "source": [
    "i=0\n",
    "\n",
    "while i<=5:\n",
    "    print(i)\n",
    "    i+=1  # i=i+1"
   ]
  },
  {
   "cell_type": "code",
   "execution_count": 2,
   "id": "7dfa172e",
   "metadata": {},
   "outputs": [
    {
     "name": "stdout",
     "output_type": "stream",
     "text": [
      "1\n",
      "2\n",
      "3\n",
      "4\n",
      "5\n",
      "7\n",
      "8\n"
     ]
    }
   ],
   "source": [
    "# While Loop with Continue Statement\n",
    "# Prints all the element till condition gets False and Skip that oif condition value is met\n",
    "\n",
    "i=0\n",
    "while i<=7:\n",
    "    i+=1\n",
    "    if i==6:\n",
    "        continue\n",
    "    print(i)\n"
   ]
  },
  {
   "cell_type": "code",
   "execution_count": 3,
   "id": "13459beb",
   "metadata": {},
   "outputs": [
    {
     "name": "stdout",
     "output_type": "stream",
     "text": [
      "1\n",
      "2\n",
      "3\n"
     ]
    }
   ],
   "source": [
    "# while loop with break Statement\n",
    "i=1\n",
    "while i<6:\n",
    "    print(i)\n",
    "    if i==3:\n",
    "        break\n",
    "    i+=1"
   ]
  },
  {
   "cell_type": "code",
   "execution_count": 4,
   "id": "e890f810",
   "metadata": {},
   "outputs": [
    {
     "name": "stdout",
     "output_type": "stream",
     "text": [
      "Present letter:  C\n",
      "Present letter:  a\n",
      "Present letter:  m\n",
      "Present letter:  b\n",
      "Present letter:  r\n",
      "Present letter:  i\n",
      "Present letter:  d\n",
      "Present letter:  e\n"
     ]
    }
   ],
   "source": [
    "# While Loop with Pass Statement\n",
    "\n",
    "i=0\n",
    "str1='Cambridge'\n",
    "\n",
    "while i<len(str1):\n",
    "    if str1[i]=='g':\n",
    "        i=i+1\n",
    "        pass\n",
    "    print('Present letter: ',str1[i])\n",
    "    i=i+1"
   ]
  },
  {
   "cell_type": "markdown",
   "id": "adb12267",
   "metadata": {},
   "source": [
    "# Functions"
   ]
  },
  {
   "cell_type": "code",
   "execution_count": 5,
   "id": "0eb65e8f",
   "metadata": {},
   "outputs": [],
   "source": [
    "# Defining Function\n",
    "def func1():\n",
    "    print('Hello I am a Function')\n",
    "    print('I am Ready')\n",
    "    "
   ]
  },
  {
   "cell_type": "code",
   "execution_count": 6,
   "id": "81435e83",
   "metadata": {},
   "outputs": [
    {
     "name": "stdout",
     "output_type": "stream",
     "text": [
      "Hello I am a Function\n",
      "I am Ready\n"
     ]
    }
   ],
   "source": [
    "# Calling Function\n",
    "func1()"
   ]
  },
  {
   "cell_type": "code",
   "execution_count": 8,
   "id": "5b269878",
   "metadata": {},
   "outputs": [],
   "source": [
    "def func2(fname):\n",
    "    print('Good Morning ! Welcome to the session: '+fname)"
   ]
  },
  {
   "cell_type": "code",
   "execution_count": 9,
   "id": "28b499da",
   "metadata": {},
   "outputs": [
    {
     "name": "stdout",
     "output_type": "stream",
     "text": [
      "Good Morning ! Welcome to the session: Indra Prakash\n"
     ]
    }
   ],
   "source": [
    "func2('Indra Prakash')"
   ]
  },
  {
   "cell_type": "code",
   "execution_count": 10,
   "id": "5d84c482",
   "metadata": {},
   "outputs": [],
   "source": [
    "def add(a,b):\n",
    "    return a+b"
   ]
  },
  {
   "cell_type": "code",
   "execution_count": 11,
   "id": "79e135ac",
   "metadata": {},
   "outputs": [
    {
     "data": {
      "text/plain": [
       "9"
      ]
     },
     "execution_count": 11,
     "metadata": {},
     "output_type": "execute_result"
    }
   ],
   "source": [
    "add(5,4)"
   ]
  },
  {
   "cell_type": "code",
   "execution_count": 16,
   "id": "97bd6d49",
   "metadata": {},
   "outputs": [],
   "source": [
    "def func1(a, b):\n",
    "    print(a+b)"
   ]
  },
  {
   "cell_type": "code",
   "execution_count": 17,
   "id": "34a822e0",
   "metadata": {},
   "outputs": [
    {
     "name": "stdout",
     "output_type": "stream",
     "text": [
      "9\n"
     ]
    }
   ],
   "source": [
    "func1(5,4)"
   ]
  },
  {
   "cell_type": "markdown",
   "id": "9b3c674e",
   "metadata": {},
   "source": [
    "# lambda Function"
   ]
  },
  {
   "cell_type": "code",
   "execution_count": 12,
   "id": "ba468df9",
   "metadata": {},
   "outputs": [
    {
     "name": "stdout",
     "output_type": "stream",
     "text": [
      "30\n"
     ]
    }
   ],
   "source": [
    "# Add 10 to the argument a\n",
    "x=lambda a : a+10\n",
    "print(x(20))"
   ]
  },
  {
   "cell_type": "code",
   "execution_count": 18,
   "id": "29c7426a",
   "metadata": {},
   "outputs": [
    {
     "name": "stdout",
     "output_type": "stream",
     "text": [
      "70\n"
     ]
    }
   ],
   "source": [
    "# Summarizing the argument a,b\n",
    "x=lambda a,b: a+b\n",
    "print(x(50,20))"
   ]
  },
  {
   "cell_type": "code",
   "execution_count": 19,
   "id": "9fbfb802",
   "metadata": {},
   "outputs": [
    {
     "name": "stdout",
     "output_type": "stream",
     "text": [
      "100\n"
     ]
    }
   ],
   "source": [
    "x=lambda a,b,c: a+b+c\n",
    "print(x(50,20,30))"
   ]
  },
  {
   "cell_type": "code",
   "execution_count": 20,
   "id": "9832ba6c",
   "metadata": {},
   "outputs": [
    {
     "name": "stdout",
     "output_type": "stream",
     "text": [
      "10\n"
     ]
    }
   ],
   "source": [
    "x=lambda a,b: a-b\n",
    "print(x(50,40))"
   ]
  },
  {
   "cell_type": "code",
   "execution_count": 21,
   "id": "93e6e70a",
   "metadata": {},
   "outputs": [
    {
     "name": "stdout",
     "output_type": "stream",
     "text": [
      "2000\n"
     ]
    }
   ],
   "source": [
    "x=lambda a,b: a*b\n",
    "print(x(50,40))"
   ]
  },
  {
   "cell_type": "code",
   "execution_count": null,
   "id": "51569a51",
   "metadata": {},
   "outputs": [],
   "source": []
  },
  {
   "cell_type": "code",
   "execution_count": null,
   "id": "254dbc7c",
   "metadata": {},
   "outputs": [],
   "source": []
  }
 ],
 "metadata": {
  "kernelspec": {
   "display_name": "Python 3 (ipykernel)",
   "language": "python",
   "name": "python3"
  },
  "language_info": {
   "codemirror_mode": {
    "name": "ipython",
    "version": 3
   },
   "file_extension": ".py",
   "mimetype": "text/x-python",
   "name": "python",
   "nbconvert_exporter": "python",
   "pygments_lexer": "ipython3",
   "version": "3.9.13"
  }
 },
 "nbformat": 4,
 "nbformat_minor": 5
}
