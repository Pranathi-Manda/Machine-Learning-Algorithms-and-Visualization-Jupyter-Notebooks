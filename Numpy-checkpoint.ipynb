{
 "cells": [
  {
   "cell_type": "code",
   "execution_count": 1,
   "id": "f6ca161b",
   "metadata": {},
   "outputs": [],
   "source": [
    "#import the library\n",
    "import numpy as np"
   ]
  },
  {
   "cell_type": "code",
   "execution_count": 2,
   "id": "0abf4344",
   "metadata": {},
   "outputs": [
    {
     "data": {
      "text/plain": [
       "array([1, 2, 3, 4, 5])"
      ]
     },
     "execution_count": 2,
     "metadata": {},
     "output_type": "execute_result"
    }
   ],
   "source": [
    "# creating Array\n",
    "a=np.array([1,2,3,4,5])\n",
    "a"
   ]
  },
  {
   "cell_type": "code",
   "execution_count": 3,
   "id": "099c76b7",
   "metadata": {},
   "outputs": [
    {
     "data": {
      "text/plain": [
       "1"
      ]
     },
     "execution_count": 3,
     "metadata": {},
     "output_type": "execute_result"
    }
   ],
   "source": [
    "#checking the dimnesion of Array\n",
    "a.ndim"
   ]
  },
  {
   "cell_type": "code",
   "execution_count": 6,
   "id": "16772b16",
   "metadata": {},
   "outputs": [
    {
     "data": {
      "text/plain": [
       "array([[1, 2, 3, 4, 5],\n",
       "       [2, 3, 5, 7, 8]])"
      ]
     },
     "execution_count": 6,
     "metadata": {},
     "output_type": "execute_result"
    }
   ],
   "source": [
    "# Creating a two dimension array\n",
    "b=np.array([[1,2,3,4,5],[2,3,5,7,8]])\n",
    "b"
   ]
  },
  {
   "cell_type": "code",
   "execution_count": 7,
   "id": "94bea26f",
   "metadata": {},
   "outputs": [
    {
     "data": {
      "text/plain": [
       "2"
      ]
     },
     "execution_count": 7,
     "metadata": {},
     "output_type": "execute_result"
    }
   ],
   "source": [
    "b.ndim"
   ]
  },
  {
   "cell_type": "code",
   "execution_count": 8,
   "id": "1fe4efd2",
   "metadata": {},
   "outputs": [
    {
     "data": {
      "text/plain": [
       "array([[[1, 2, 3, 4, 5],\n",
       "        [2, 3, 4, 5, 6],\n",
       "        [3, 4, 5, 6, 7]]])"
      ]
     },
     "execution_count": 8,
     "metadata": {},
     "output_type": "execute_result"
    }
   ],
   "source": [
    "c=np.array([[[1,2,3,4,5],[2,3,4,5,6],[3,4,5,6,7]]])\n",
    "c"
   ]
  },
  {
   "cell_type": "code",
   "execution_count": 9,
   "id": "f8d043cd",
   "metadata": {},
   "outputs": [
    {
     "data": {
      "text/plain": [
       "3"
      ]
     },
     "execution_count": 9,
     "metadata": {},
     "output_type": "execute_result"
    }
   ],
   "source": [
    "c.ndim"
   ]
  },
  {
   "cell_type": "markdown",
   "id": "11f09d12",
   "metadata": {},
   "source": [
    "# Zeros and Ones"
   ]
  },
  {
   "cell_type": "code",
   "execution_count": 11,
   "id": "a44ac57d",
   "metadata": {},
   "outputs": [
    {
     "data": {
      "text/plain": [
       "array([0., 0., 0., 0., 0., 0., 0., 0., 0., 0.])"
      ]
     },
     "execution_count": 11,
     "metadata": {},
     "output_type": "execute_result"
    }
   ],
   "source": [
    "var=np.zeros(10)\n",
    "var"
   ]
  },
  {
   "cell_type": "code",
   "execution_count": 12,
   "id": "01df33ed",
   "metadata": {},
   "outputs": [
    {
     "data": {
      "text/plain": [
       "array([1., 1., 1., 1., 1., 1., 1., 1., 1., 1.])"
      ]
     },
     "execution_count": 12,
     "metadata": {},
     "output_type": "execute_result"
    }
   ],
   "source": [
    "var1=np.ones(10)\n",
    "var1"
   ]
  },
  {
   "cell_type": "code",
   "execution_count": 13,
   "id": "b9e8c121",
   "metadata": {},
   "outputs": [
    {
     "data": {
      "text/plain": [
       "array([[[1., 1., 1., 1., 1.],\n",
       "        [1., 1., 1., 1., 1.],\n",
       "        [1., 1., 1., 1., 1.],\n",
       "        [1., 1., 1., 1., 1.]],\n",
       "\n",
       "       [[1., 1., 1., 1., 1.],\n",
       "        [1., 1., 1., 1., 1.],\n",
       "        [1., 1., 1., 1., 1.],\n",
       "        [1., 1., 1., 1., 1.]],\n",
       "\n",
       "       [[1., 1., 1., 1., 1.],\n",
       "        [1., 1., 1., 1., 1.],\n",
       "        [1., 1., 1., 1., 1.],\n",
       "        [1., 1., 1., 1., 1.]]])"
      ]
     },
     "execution_count": 13,
     "metadata": {},
     "output_type": "execute_result"
    }
   ],
   "source": [
    "var2=np.ones((3,4,5))\n",
    "var2"
   ]
  },
  {
   "cell_type": "code",
   "execution_count": 14,
   "id": "c595d928",
   "metadata": {},
   "outputs": [],
   "source": [
    "var4=np.zeros((4,2,3))"
   ]
  },
  {
   "cell_type": "code",
   "execution_count": 15,
   "id": "7084db22",
   "metadata": {},
   "outputs": [
    {
     "data": {
      "text/plain": [
       "array([[[0., 0., 0.],\n",
       "        [0., 0., 0.]],\n",
       "\n",
       "       [[0., 0., 0.],\n",
       "        [0., 0., 0.]],\n",
       "\n",
       "       [[0., 0., 0.],\n",
       "        [0., 0., 0.]],\n",
       "\n",
       "       [[0., 0., 0.],\n",
       "        [0., 0., 0.]]])"
      ]
     },
     "execution_count": 15,
     "metadata": {},
     "output_type": "execute_result"
    }
   ],
   "source": [
    "var4"
   ]
  },
  {
   "cell_type": "markdown",
   "id": "bffd3397",
   "metadata": {},
   "source": [
    "# Functions"
   ]
  },
  {
   "cell_type": "code",
   "execution_count": 16,
   "id": "92342cb3",
   "metadata": {},
   "outputs": [
    {
     "data": {
      "text/plain": [
       "array([20, 30, 40, 50])"
      ]
     },
     "execution_count": 16,
     "metadata": {},
     "output_type": "execute_result"
    }
   ],
   "source": [
    "var=np.array([20,30,40,50])\n",
    "var"
   ]
  },
  {
   "cell_type": "code",
   "execution_count": 17,
   "id": "93bc5b41",
   "metadata": {},
   "outputs": [
    {
     "data": {
      "text/plain": [
       "1"
      ]
     },
     "execution_count": 17,
     "metadata": {},
     "output_type": "execute_result"
    }
   ],
   "source": [
    "var.ndim"
   ]
  },
  {
   "cell_type": "code",
   "execution_count": 18,
   "id": "690feaa8",
   "metadata": {},
   "outputs": [
    {
     "data": {
      "text/plain": [
       "numpy.ndarray"
      ]
     },
     "execution_count": 18,
     "metadata": {},
     "output_type": "execute_result"
    }
   ],
   "source": [
    "type(var)"
   ]
  },
  {
   "cell_type": "code",
   "execution_count": 19,
   "id": "99e91d13",
   "metadata": {},
   "outputs": [
    {
     "data": {
      "text/plain": [
       "3"
      ]
     },
     "execution_count": 19,
     "metadata": {},
     "output_type": "execute_result"
    }
   ],
   "source": [
    "# What do you mean by Argmax?\n",
    "# argmax= Index position of Maximum Value\n",
    "var.argmax()"
   ]
  },
  {
   "cell_type": "code",
   "execution_count": 20,
   "id": "bf9d61a5",
   "metadata": {},
   "outputs": [
    {
     "data": {
      "text/plain": [
       "0"
      ]
     },
     "execution_count": 20,
     "metadata": {},
     "output_type": "execute_result"
    }
   ],
   "source": [
    "#argmin=Index position of Minimum Value\n",
    "var.argmin()"
   ]
  },
  {
   "cell_type": "code",
   "execution_count": 21,
   "id": "d21176ba",
   "metadata": {},
   "outputs": [
    {
     "data": {
      "text/plain": [
       "30"
      ]
     },
     "execution_count": 21,
     "metadata": {},
     "output_type": "execute_result"
    }
   ],
   "source": [
    "var[1]"
   ]
  },
  {
   "cell_type": "code",
   "execution_count": 22,
   "id": "f761cdd7",
   "metadata": {},
   "outputs": [
    {
     "data": {
      "text/plain": [
       "40"
      ]
     },
     "execution_count": 22,
     "metadata": {},
     "output_type": "execute_result"
    }
   ],
   "source": [
    "var[2]"
   ]
  },
  {
   "cell_type": "code",
   "execution_count": 23,
   "id": "97d30538",
   "metadata": {},
   "outputs": [
    {
     "data": {
      "text/plain": [
       "array([20, 30, 40, 50])"
      ]
     },
     "execution_count": 23,
     "metadata": {},
     "output_type": "execute_result"
    }
   ],
   "source": [
    "var"
   ]
  },
  {
   "cell_type": "code",
   "execution_count": 24,
   "id": "8cd33d59",
   "metadata": {},
   "outputs": [
    {
     "data": {
      "text/plain": [
       "array([20, 30])"
      ]
     },
     "execution_count": 24,
     "metadata": {},
     "output_type": "execute_result"
    }
   ],
   "source": [
    "var[0:2]"
   ]
  },
  {
   "cell_type": "code",
   "execution_count": 25,
   "id": "e7918c59",
   "metadata": {},
   "outputs": [
    {
     "data": {
      "text/plain": [
       "array([20, 30, 40])"
      ]
     },
     "execution_count": 25,
     "metadata": {},
     "output_type": "execute_result"
    }
   ],
   "source": [
    "var[0:3]"
   ]
  },
  {
   "cell_type": "code",
   "execution_count": 27,
   "id": "a9989a0a",
   "metadata": {},
   "outputs": [
    {
     "data": {
      "text/plain": [
       "array([40, 50])"
      ]
     },
     "execution_count": 27,
     "metadata": {},
     "output_type": "execute_result"
    }
   ],
   "source": [
    "var[2:]"
   ]
  },
  {
   "cell_type": "code",
   "execution_count": 30,
   "id": "82c0a1c3",
   "metadata": {},
   "outputs": [
    {
     "data": {
      "text/plain": [
       "array([1, 2, 3, 4, 5, 6])"
      ]
     },
     "execution_count": 30,
     "metadata": {},
     "output_type": "execute_result"
    }
   ],
   "source": [
    "arr=np.array([1,2,3,4,5,6])\n",
    "arr"
   ]
  },
  {
   "cell_type": "code",
   "execution_count": 31,
   "id": "c0e62bd8",
   "metadata": {},
   "outputs": [
    {
     "data": {
      "text/plain": [
       "numpy.ndarray"
      ]
     },
     "execution_count": 31,
     "metadata": {},
     "output_type": "execute_result"
    }
   ],
   "source": [
    "type(arr)"
   ]
  },
  {
   "cell_type": "code",
   "execution_count": 32,
   "id": "e55e3abc",
   "metadata": {},
   "outputs": [
    {
     "data": {
      "text/plain": [
       "dtype('int32')"
      ]
     },
     "execution_count": 32,
     "metadata": {},
     "output_type": "execute_result"
    }
   ],
   "source": [
    "arr.dtype"
   ]
  },
  {
   "cell_type": "code",
   "execution_count": 33,
   "id": "1fb0c635",
   "metadata": {},
   "outputs": [
    {
     "data": {
      "text/plain": [
       "array([1. , 2. , 3.5, 4. , 5. , 6. ])"
      ]
     },
     "execution_count": 33,
     "metadata": {},
     "output_type": "execute_result"
    }
   ],
   "source": [
    "arr=np.array([1,2,3.5,4,5,6])\n",
    "arr"
   ]
  },
  {
   "cell_type": "code",
   "execution_count": 34,
   "id": "4c76d256",
   "metadata": {},
   "outputs": [
    {
     "data": {
      "text/plain": [
       "dtype('float64')"
      ]
     },
     "execution_count": 34,
     "metadata": {},
     "output_type": "execute_result"
    }
   ],
   "source": [
    "arr.dtype"
   ]
  },
  {
   "cell_type": "code",
   "execution_count": 35,
   "id": "5518bf43",
   "metadata": {},
   "outputs": [
    {
     "data": {
      "text/plain": [
       "6"
      ]
     },
     "execution_count": 35,
     "metadata": {},
     "output_type": "execute_result"
    }
   ],
   "source": [
    "arr.size"
   ]
  },
  {
   "cell_type": "raw",
   "id": "a89cb9fc",
   "metadata": {},
   "source": [
    "Arange()\n",
    "np.arange(e) #end\n",
    "np.arange(s,e)#Start and End\n",
    "np.arange(s,e,st) # start, end, step"
   ]
  },
  {
   "cell_type": "code",
   "execution_count": 36,
   "id": "7e0fa660",
   "metadata": {},
   "outputs": [
    {
     "data": {
      "text/plain": [
       "array([ 0,  1,  2,  3,  4,  5,  6,  7,  8,  9, 10, 11, 12, 13, 14])"
      ]
     },
     "execution_count": 36,
     "metadata": {},
     "output_type": "execute_result"
    }
   ],
   "source": [
    "np.arange(15)"
   ]
  },
  {
   "cell_type": "code",
   "execution_count": 37,
   "id": "2c182f31",
   "metadata": {},
   "outputs": [
    {
     "data": {
      "text/plain": [
       "array([ 0,  1,  2,  3,  4,  5,  6,  7,  8,  9, 10, 11, 12, 13, 14])"
      ]
     },
     "execution_count": 37,
     "metadata": {},
     "output_type": "execute_result"
    }
   ],
   "source": [
    "np.arange(0,15)"
   ]
  },
  {
   "cell_type": "code",
   "execution_count": 38,
   "id": "1d888a69",
   "metadata": {},
   "outputs": [
    {
     "data": {
      "text/plain": [
       "array([0, 3, 6, 9])"
      ]
     },
     "execution_count": 38,
     "metadata": {},
     "output_type": "execute_result"
    }
   ],
   "source": [
    "np.arange(0,11,3)"
   ]
  },
  {
   "cell_type": "code",
   "execution_count": 44,
   "id": "b18f346b",
   "metadata": {},
   "outputs": [],
   "source": [
    "a=np.arange(12)"
   ]
  },
  {
   "cell_type": "code",
   "execution_count": 45,
   "id": "d5a99f33",
   "metadata": {},
   "outputs": [
    {
     "data": {
      "text/plain": [
       "array([ 0,  1,  2,  3,  4,  5,  6,  7,  8,  9, 10, 11])"
      ]
     },
     "execution_count": 45,
     "metadata": {},
     "output_type": "execute_result"
    }
   ],
   "source": [
    "a\n"
   ]
  },
  {
   "cell_type": "code",
   "execution_count": 46,
   "id": "1c1313a1",
   "metadata": {},
   "outputs": [
    {
     "data": {
      "text/plain": [
       "1"
      ]
     },
     "execution_count": 46,
     "metadata": {},
     "output_type": "execute_result"
    }
   ],
   "source": [
    "a.ndim"
   ]
  },
  {
   "cell_type": "code",
   "execution_count": 47,
   "id": "323672fb",
   "metadata": {},
   "outputs": [],
   "source": [
    "#reshape"
   ]
  },
  {
   "cell_type": "code",
   "execution_count": 48,
   "id": "bc17fa61",
   "metadata": {},
   "outputs": [],
   "source": [
    "a=np.arange(12).reshape(4,3)          #1,12  ,2,6   ,4,3   6,2   12,1"
   ]
  },
  {
   "cell_type": "code",
   "execution_count": 49,
   "id": "1ac47ead",
   "metadata": {},
   "outputs": [
    {
     "data": {
      "text/plain": [
       "array([[ 0,  1,  2],\n",
       "       [ 3,  4,  5],\n",
       "       [ 6,  7,  8],\n",
       "       [ 9, 10, 11]])"
      ]
     },
     "execution_count": 49,
     "metadata": {},
     "output_type": "execute_result"
    }
   ],
   "source": [
    "a"
   ]
  },
  {
   "cell_type": "code",
   "execution_count": 50,
   "id": "8463a68f",
   "metadata": {},
   "outputs": [
    {
     "data": {
      "text/plain": [
       "array([[ 0,  1,  2,  3],\n",
       "       [ 4,  5,  6,  7],\n",
       "       [ 8,  9, 10, 11]])"
      ]
     },
     "execution_count": 50,
     "metadata": {},
     "output_type": "execute_result"
    }
   ],
   "source": [
    "a=np.arange(12).reshape(3,4) \n",
    "a"
   ]
  },
  {
   "cell_type": "code",
   "execution_count": 62,
   "id": "e5da2be0",
   "metadata": {},
   "outputs": [
    {
     "data": {
      "text/plain": [
       "array([[ 0,  1],\n",
       "       [ 2,  3],\n",
       "       [ 4,  5],\n",
       "       [ 6,  7],\n",
       "       [ 8,  9],\n",
       "       [10, 11]])"
      ]
     },
     "execution_count": 62,
     "metadata": {},
     "output_type": "execute_result"
    }
   ],
   "source": [
    "a=np.arange(12).reshape(6,2) \n",
    "a"
   ]
  },
  {
   "cell_type": "code",
   "execution_count": 52,
   "id": "e09431c0",
   "metadata": {},
   "outputs": [
    {
     "data": {
      "text/plain": [
       "(6, 2)"
      ]
     },
     "execution_count": 52,
     "metadata": {},
     "output_type": "execute_result"
    }
   ],
   "source": [
    "a.shape"
   ]
  },
  {
   "cell_type": "code",
   "execution_count": 53,
   "id": "59a40706",
   "metadata": {},
   "outputs": [
    {
     "data": {
      "text/plain": [
       "11"
      ]
     },
     "execution_count": 53,
     "metadata": {},
     "output_type": "execute_result"
    }
   ],
   "source": [
    "a.max()"
   ]
  },
  {
   "cell_type": "code",
   "execution_count": 54,
   "id": "8862a270",
   "metadata": {},
   "outputs": [
    {
     "data": {
      "text/plain": [
       "array([[[ 0,  1],\n",
       "        [ 2,  3],\n",
       "        [ 4,  5],\n",
       "        [ 6,  7],\n",
       "        [ 8,  9],\n",
       "        [10, 11]]])"
      ]
     },
     "execution_count": 54,
     "metadata": {},
     "output_type": "execute_result"
    }
   ],
   "source": [
    "a=np.arange(12).reshape(1,6,2) \n",
    "a"
   ]
  },
  {
   "cell_type": "code",
   "execution_count": 55,
   "id": "5a31116c",
   "metadata": {},
   "outputs": [
    {
     "data": {
      "text/plain": [
       "3"
      ]
     },
     "execution_count": 55,
     "metadata": {},
     "output_type": "execute_result"
    }
   ],
   "source": [
    "a.ndim"
   ]
  },
  {
   "cell_type": "code",
   "execution_count": 57,
   "id": "05f14be2",
   "metadata": {},
   "outputs": [
    {
     "data": {
      "text/plain": [
       "[1, 4, 5, 2, 8]"
      ]
     },
     "execution_count": 57,
     "metadata": {},
     "output_type": "execute_result"
    }
   ],
   "source": [
    "x=[1,4,5,2,8]\n",
    "\n",
    "x"
   ]
  },
  {
   "cell_type": "code",
   "execution_count": 58,
   "id": "2bd5559a",
   "metadata": {},
   "outputs": [
    {
     "data": {
      "text/plain": [
       "array([1.        , 2.        , 2.23606798, 1.41421356, 2.82842712])"
      ]
     },
     "execution_count": 58,
     "metadata": {},
     "output_type": "execute_result"
    }
   ],
   "source": [
    "np.sqrt(x)"
   ]
  },
  {
   "cell_type": "code",
   "execution_count": 59,
   "id": "0fbfefcc",
   "metadata": {},
   "outputs": [
    {
     "data": {
      "text/plain": [
       "array([0.        , 1.38629436, 1.60943791, 0.69314718, 2.07944154])"
      ]
     },
     "execution_count": 59,
     "metadata": {},
     "output_type": "execute_result"
    }
   ],
   "source": [
    "np.log(x)"
   ]
  },
  {
   "cell_type": "code",
   "execution_count": 60,
   "id": "21475c38",
   "metadata": {},
   "outputs": [
    {
     "data": {
      "text/plain": [
       "array([2.71828183e+00, 5.45981500e+01, 1.48413159e+02, 7.38905610e+00,\n",
       "       2.98095799e+03])"
      ]
     },
     "execution_count": 60,
     "metadata": {},
     "output_type": "execute_result"
    }
   ],
   "source": [
    "np.exp(x)"
   ]
  },
  {
   "cell_type": "code",
   "execution_count": 63,
   "id": "171850e2",
   "metadata": {},
   "outputs": [
    {
     "data": {
      "text/plain": [
       "array([[ 0,  1],\n",
       "       [ 2,  3],\n",
       "       [ 4,  5],\n",
       "       [ 6,  7],\n",
       "       [ 8,  9],\n",
       "       [10, 11]])"
      ]
     },
     "execution_count": 63,
     "metadata": {},
     "output_type": "execute_result"
    }
   ],
   "source": [
    "a"
   ]
  },
  {
   "cell_type": "code",
   "execution_count": 64,
   "id": "9bdc7354",
   "metadata": {},
   "outputs": [],
   "source": [
    "a1=a.T"
   ]
  },
  {
   "cell_type": "code",
   "execution_count": 65,
   "id": "373d3a15",
   "metadata": {},
   "outputs": [
    {
     "data": {
      "text/plain": [
       "array([[ 0,  2,  4,  6,  8, 10],\n",
       "       [ 1,  3,  5,  7,  9, 11]])"
      ]
     },
     "execution_count": 65,
     "metadata": {},
     "output_type": "execute_result"
    }
   ],
   "source": [
    "a1"
   ]
  },
  {
   "cell_type": "markdown",
   "id": "da244951",
   "metadata": {},
   "source": [
    "# Floor and Ceil"
   ]
  },
  {
   "cell_type": "code",
   "execution_count": 66,
   "id": "1726028f",
   "metadata": {},
   "outputs": [
    {
     "data": {
      "text/plain": [
       "array([10.8 ,  3.64,  6.6 , 10.2 ])"
      ]
     },
     "execution_count": 66,
     "metadata": {},
     "output_type": "execute_result"
    }
   ],
   "source": [
    "arr1=np.array([10.8,3.64,6.6,10.2])\n",
    "arr1"
   ]
  },
  {
   "cell_type": "code",
   "execution_count": 67,
   "id": "10012a52",
   "metadata": {},
   "outputs": [
    {
     "data": {
      "text/plain": [
       "array([10.,  3.,  6., 10.])"
      ]
     },
     "execution_count": 67,
     "metadata": {},
     "output_type": "execute_result"
    }
   ],
   "source": [
    "np.floor(arr1)"
   ]
  },
  {
   "cell_type": "code",
   "execution_count": 68,
   "id": "1f4dd58e",
   "metadata": {},
   "outputs": [
    {
     "data": {
      "text/plain": [
       "array([11.,  4.,  7., 11.])"
      ]
     },
     "execution_count": 68,
     "metadata": {},
     "output_type": "execute_result"
    }
   ],
   "source": [
    "np.ceil(arr1)"
   ]
  },
  {
   "cell_type": "code",
   "execution_count": 69,
   "id": "8f605447",
   "metadata": {},
   "outputs": [
    {
     "data": {
      "text/plain": [
       "array([11.,  4.,  7., 10.])"
      ]
     },
     "execution_count": 69,
     "metadata": {},
     "output_type": "execute_result"
    }
   ],
   "source": [
    "np.round(arr1)"
   ]
  },
  {
   "cell_type": "markdown",
   "id": "786bb7ca",
   "metadata": {},
   "source": [
    "# Stacking"
   ]
  },
  {
   "cell_type": "code",
   "execution_count": 70,
   "id": "ca0eacb0",
   "metadata": {},
   "outputs": [],
   "source": [
    "#vertical Stacking= No of columns should be same\n",
    "#horizontal Stacking= No of Rows should be same"
   ]
  },
  {
   "cell_type": "code",
   "execution_count": 71,
   "id": "2065617c",
   "metadata": {},
   "outputs": [],
   "source": [
    "arr1=np.arange(10).reshape(2,5)\n",
    "arr2=np.arange(20).reshape(4,5)"
   ]
  },
  {
   "cell_type": "code",
   "execution_count": 72,
   "id": "04e889f9",
   "metadata": {},
   "outputs": [
    {
     "data": {
      "text/plain": [
       "array([[0, 1, 2, 3, 4],\n",
       "       [5, 6, 7, 8, 9]])"
      ]
     },
     "execution_count": 72,
     "metadata": {},
     "output_type": "execute_result"
    }
   ],
   "source": [
    "arr1"
   ]
  },
  {
   "cell_type": "code",
   "execution_count": 73,
   "id": "ce154a11",
   "metadata": {},
   "outputs": [
    {
     "data": {
      "text/plain": [
       "array([[ 0,  1,  2,  3,  4],\n",
       "       [ 5,  6,  7,  8,  9],\n",
       "       [10, 11, 12, 13, 14],\n",
       "       [15, 16, 17, 18, 19]])"
      ]
     },
     "execution_count": 73,
     "metadata": {},
     "output_type": "execute_result"
    }
   ],
   "source": [
    "arr2"
   ]
  },
  {
   "cell_type": "code",
   "execution_count": 74,
   "id": "604f9550",
   "metadata": {},
   "outputs": [
    {
     "data": {
      "text/plain": [
       "array([[ 0,  1,  2,  3,  4],\n",
       "       [ 5,  6,  7,  8,  9],\n",
       "       [ 0,  1,  2,  3,  4],\n",
       "       [ 5,  6,  7,  8,  9],\n",
       "       [10, 11, 12, 13, 14],\n",
       "       [15, 16, 17, 18, 19]])"
      ]
     },
     "execution_count": 74,
     "metadata": {},
     "output_type": "execute_result"
    }
   ],
   "source": [
    "np.vstack((arr1,arr2))"
   ]
  },
  {
   "cell_type": "code",
   "execution_count": 75,
   "id": "b41c8b75",
   "metadata": {},
   "outputs": [
    {
     "ename": "ValueError",
     "evalue": "all the input array dimensions for the concatenation axis must match exactly, but along dimension 0, the array at index 0 has size 2 and the array at index 1 has size 4",
     "output_type": "error",
     "traceback": [
      "\u001b[1;31m---------------------------------------------------------------------------\u001b[0m",
      "\u001b[1;31mValueError\u001b[0m                                Traceback (most recent call last)",
      "\u001b[1;32m~\\AppData\\Local\\Temp\\ipykernel_16244\\2190662806.py\u001b[0m in \u001b[0;36m<module>\u001b[1;34m\u001b[0m\n\u001b[1;32m----> 1\u001b[1;33m \u001b[0mnp\u001b[0m\u001b[1;33m.\u001b[0m\u001b[0mhstack\u001b[0m\u001b[1;33m(\u001b[0m\u001b[1;33m(\u001b[0m\u001b[0marr1\u001b[0m\u001b[1;33m,\u001b[0m\u001b[0marr2\u001b[0m\u001b[1;33m)\u001b[0m\u001b[1;33m)\u001b[0m\u001b[1;33m\u001b[0m\u001b[1;33m\u001b[0m\u001b[0m\n\u001b[0m",
      "\u001b[1;32mD:\\Anaconda\\lib\\site-packages\\numpy\\core\\overrides.py\u001b[0m in \u001b[0;36mhstack\u001b[1;34m(*args, **kwargs)\u001b[0m\n",
      "\u001b[1;32mD:\\Anaconda\\lib\\site-packages\\numpy\\core\\shape_base.py\u001b[0m in \u001b[0;36mhstack\u001b[1;34m(tup)\u001b[0m\n\u001b[0;32m    343\u001b[0m         \u001b[1;32mreturn\u001b[0m \u001b[0m_nx\u001b[0m\u001b[1;33m.\u001b[0m\u001b[0mconcatenate\u001b[0m\u001b[1;33m(\u001b[0m\u001b[0marrs\u001b[0m\u001b[1;33m,\u001b[0m \u001b[1;36m0\u001b[0m\u001b[1;33m)\u001b[0m\u001b[1;33m\u001b[0m\u001b[1;33m\u001b[0m\u001b[0m\n\u001b[0;32m    344\u001b[0m     \u001b[1;32melse\u001b[0m\u001b[1;33m:\u001b[0m\u001b[1;33m\u001b[0m\u001b[1;33m\u001b[0m\u001b[0m\n\u001b[1;32m--> 345\u001b[1;33m         \u001b[1;32mreturn\u001b[0m \u001b[0m_nx\u001b[0m\u001b[1;33m.\u001b[0m\u001b[0mconcatenate\u001b[0m\u001b[1;33m(\u001b[0m\u001b[0marrs\u001b[0m\u001b[1;33m,\u001b[0m \u001b[1;36m1\u001b[0m\u001b[1;33m)\u001b[0m\u001b[1;33m\u001b[0m\u001b[1;33m\u001b[0m\u001b[0m\n\u001b[0m\u001b[0;32m    346\u001b[0m \u001b[1;33m\u001b[0m\u001b[0m\n\u001b[0;32m    347\u001b[0m \u001b[1;33m\u001b[0m\u001b[0m\n",
      "\u001b[1;32mD:\\Anaconda\\lib\\site-packages\\numpy\\core\\overrides.py\u001b[0m in \u001b[0;36mconcatenate\u001b[1;34m(*args, **kwargs)\u001b[0m\n",
      "\u001b[1;31mValueError\u001b[0m: all the input array dimensions for the concatenation axis must match exactly, but along dimension 0, the array at index 0 has size 2 and the array at index 1 has size 4"
     ]
    }
   ],
   "source": [
    "np.hstack((arr1,arr2))"
   ]
  },
  {
   "cell_type": "markdown",
   "id": "b499905e",
   "metadata": {},
   "source": [
    "# Split"
   ]
  },
  {
   "cell_type": "code",
   "execution_count": 76,
   "id": "6459f0c0",
   "metadata": {},
   "outputs": [],
   "source": [
    "#vertical Splitting- Splits an array into multiple arrays vertically(row wise)\n",
    "#horizontal splitting-splits an array into multiple arrat horizontally (column wise)"
   ]
  },
  {
   "cell_type": "code",
   "execution_count": 77,
   "id": "be155045",
   "metadata": {},
   "outputs": [
    {
     "data": {
      "text/plain": [
       "array([[ 0,  1,  2,  3,  4,  5,  6,  7,  8,  9],\n",
       "       [10, 11, 12, 13, 14, 15, 16, 17, 18, 19],\n",
       "       [20, 21, 22, 23, 24, 25, 26, 27, 28, 29],\n",
       "       [30, 31, 32, 33, 34, 35, 36, 37, 38, 39],\n",
       "       [40, 41, 42, 43, 44, 45, 46, 47, 48, 49],\n",
       "       [50, 51, 52, 53, 54, 55, 56, 57, 58, 59],\n",
       "       [60, 61, 62, 63, 64, 65, 66, 67, 68, 69],\n",
       "       [70, 71, 72, 73, 74, 75, 76, 77, 78, 79],\n",
       "       [80, 81, 82, 83, 84, 85, 86, 87, 88, 89],\n",
       "       [90, 91, 92, 93, 94, 95, 96, 97, 98, 99]])"
      ]
     },
     "execution_count": 77,
     "metadata": {},
     "output_type": "execute_result"
    }
   ],
   "source": [
    "arr2=np.arange(100).reshape(10,10)\n",
    "arr2"
   ]
  },
  {
   "cell_type": "code",
   "execution_count": 78,
   "id": "0de122c7",
   "metadata": {},
   "outputs": [
    {
     "data": {
      "text/plain": [
       "[array([[ 0,  1,  2,  3,  4,  5,  6,  7,  8,  9],\n",
       "        [10, 11, 12, 13, 14, 15, 16, 17, 18, 19],\n",
       "        [20, 21, 22, 23, 24, 25, 26, 27, 28, 29],\n",
       "        [30, 31, 32, 33, 34, 35, 36, 37, 38, 39],\n",
       "        [40, 41, 42, 43, 44, 45, 46, 47, 48, 49]]),\n",
       " array([[50, 51, 52, 53, 54, 55, 56, 57, 58, 59],\n",
       "        [60, 61, 62, 63, 64, 65, 66, 67, 68, 69],\n",
       "        [70, 71, 72, 73, 74, 75, 76, 77, 78, 79],\n",
       "        [80, 81, 82, 83, 84, 85, 86, 87, 88, 89],\n",
       "        [90, 91, 92, 93, 94, 95, 96, 97, 98, 99]])]"
      ]
     },
     "execution_count": 78,
     "metadata": {},
     "output_type": "execute_result"
    }
   ],
   "source": [
    "np.vsplit(arr2,2)"
   ]
  },
  {
   "cell_type": "code",
   "execution_count": 79,
   "id": "ace3771e",
   "metadata": {},
   "outputs": [
    {
     "data": {
      "text/plain": [
       "[array([[ 0,  1,  2,  3,  4],\n",
       "        [10, 11, 12, 13, 14],\n",
       "        [20, 21, 22, 23, 24],\n",
       "        [30, 31, 32, 33, 34],\n",
       "        [40, 41, 42, 43, 44],\n",
       "        [50, 51, 52, 53, 54],\n",
       "        [60, 61, 62, 63, 64],\n",
       "        [70, 71, 72, 73, 74],\n",
       "        [80, 81, 82, 83, 84],\n",
       "        [90, 91, 92, 93, 94]]),\n",
       " array([[ 5,  6,  7,  8,  9],\n",
       "        [15, 16, 17, 18, 19],\n",
       "        [25, 26, 27, 28, 29],\n",
       "        [35, 36, 37, 38, 39],\n",
       "        [45, 46, 47, 48, 49],\n",
       "        [55, 56, 57, 58, 59],\n",
       "        [65, 66, 67, 68, 69],\n",
       "        [75, 76, 77, 78, 79],\n",
       "        [85, 86, 87, 88, 89],\n",
       "        [95, 96, 97, 98, 99]])]"
      ]
     },
     "execution_count": 79,
     "metadata": {},
     "output_type": "execute_result"
    }
   ],
   "source": [
    "np.hsplit(arr2,2)"
   ]
  },
  {
   "cell_type": "markdown",
   "id": "f7a0059a",
   "metadata": {},
   "source": [
    "# Linspace"
   ]
  },
  {
   "cell_type": "code",
   "execution_count": 82,
   "id": "f9ffd203",
   "metadata": {},
   "outputs": [
    {
     "data": {
      "text/plain": [
       "array([ 0.        ,  0.6122449 ,  1.2244898 ,  1.83673469,  2.44897959,\n",
       "        3.06122449,  3.67346939,  4.28571429,  4.89795918,  5.51020408,\n",
       "        6.12244898,  6.73469388,  7.34693878,  7.95918367,  8.57142857,\n",
       "        9.18367347,  9.79591837, 10.40816327, 11.02040816, 11.63265306,\n",
       "       12.24489796, 12.85714286, 13.46938776, 14.08163265, 14.69387755,\n",
       "       15.30612245, 15.91836735, 16.53061224, 17.14285714, 17.75510204,\n",
       "       18.36734694, 18.97959184, 19.59183673, 20.20408163, 20.81632653,\n",
       "       21.42857143, 22.04081633, 22.65306122, 23.26530612, 23.87755102,\n",
       "       24.48979592, 25.10204082, 25.71428571, 26.32653061, 26.93877551,\n",
       "       27.55102041, 28.16326531, 28.7755102 , 29.3877551 , 30.        ])"
      ]
     },
     "execution_count": 82,
     "metadata": {},
     "output_type": "execute_result"
    }
   ],
   "source": [
    "np.linspace(0,30)"
   ]
  },
  {
   "cell_type": "code",
   "execution_count": 83,
   "id": "eca8b65c",
   "metadata": {},
   "outputs": [
    {
     "data": {
      "text/plain": [
       "array([ 0.        ,  3.33333333,  6.66666667, 10.        , 13.33333333,\n",
       "       16.66666667, 20.        , 23.33333333, 26.66666667, 30.        ])"
      ]
     },
     "execution_count": 83,
     "metadata": {},
     "output_type": "execute_result"
    }
   ],
   "source": [
    "np.linspace(0,30,num=10)"
   ]
  },
  {
   "cell_type": "markdown",
   "id": "e8fdeac9",
   "metadata": {},
   "source": [
    "# Random"
   ]
  },
  {
   "cell_type": "code",
   "execution_count": 87,
   "id": "7d5f3083",
   "metadata": {},
   "outputs": [
    {
     "data": {
      "text/plain": [
       "array([0.79382064, 0.66003072, 0.82942384, 0.44705841, 0.35169585,\n",
       "       0.01113945, 0.8408104 , 0.22237279, 0.55661808, 0.80020303])"
      ]
     },
     "execution_count": 87,
     "metadata": {},
     "output_type": "execute_result"
    }
   ],
   "source": [
    "#random\n",
    "np.random.random(10)"
   ]
  },
  {
   "cell_type": "code",
   "execution_count": 92,
   "id": "040cfb57",
   "metadata": {},
   "outputs": [
    {
     "data": {
      "text/plain": [
       "2"
      ]
     },
     "execution_count": 92,
     "metadata": {},
     "output_type": "execute_result"
    }
   ],
   "source": [
    "#randint\n",
    "np.random.randint(1,10)"
   ]
  },
  {
   "cell_type": "code",
   "execution_count": null,
   "id": "927bd4a5",
   "metadata": {},
   "outputs": [],
   "source": []
  }
 ],
 "metadata": {
  "kernelspec": {
   "display_name": "Python 3 (ipykernel)",
   "language": "python",
   "name": "python3"
  },
  "language_info": {
   "codemirror_mode": {
    "name": "ipython",
    "version": 3
   },
   "file_extension": ".py",
   "mimetype": "text/x-python",
   "name": "python",
   "nbconvert_exporter": "python",
   "pygments_lexer": "ipython3",
   "version": "3.9.13"
  }
 },
 "nbformat": 4,
 "nbformat_minor": 5
}
